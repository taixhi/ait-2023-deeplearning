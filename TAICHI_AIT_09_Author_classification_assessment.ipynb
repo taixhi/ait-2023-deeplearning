{
  "nbformat": 4,
  "nbformat_minor": 0,
  "metadata": {
    "kernelspec": {
      "display_name": "Python 3",
      "language": "python",
      "name": "python3"
    },
    "language_info": {
      "codemirror_mode": {
        "name": "ipython",
        "version": 3
      },
      "file_extension": ".py",
      "mimetype": "text/x-python",
      "name": "python",
      "nbconvert_exporter": "python",
      "pygments_lexer": "ipython3",
      "version": "3.6.6"
    },
    "colab": {
      "provenance": [],
      "include_colab_link": true
    }
  },
  "cells": [
    {
      "cell_type": "markdown",
      "metadata": {
        "id": "view-in-github",
        "colab_type": "text"
      },
      "source": [
        "<a href=\"https://colab.research.google.com/github/taixhi/ait-2023-deeplearning/blob/main/TAICHI_AIT_09_Author_classification_assessment.ipynb\" target=\"_parent\"><img src=\"https://colab.research.google.com/assets/colab-badge.svg\" alt=\"Open In Colab\"/></a>"
      ]
    },
    {
      "cell_type": "markdown",
      "metadata": {
        "id": "_jiGtJu6u9ml"
      },
      "source": [
        "# Copyright\n",
        "\n",
        "<PRE>\n",
        "Copyright (c) 2023 Bálint Gyires-Tóth - All Rights Reserved\n",
        "You may use and modify this code for research and development purpuses.\n",
        "Use this code for educational purposes (self-paced or instructor led) without the permission of the author is prohibited.\n",
        "</PRE>"
      ]
    },
    {
      "cell_type": "markdown",
      "metadata": {
        "id": "oXyFC44jV-PP"
      },
      "source": [
        "# Author classification\n",
        "The task is to train a 1D CNN or an LSTM that is able to  classify text from two authors. The final model should be able to tell about a text with a given length (e.g. 60 characters) who wrote it. \n",
        "\n",
        "Please write the codes according to the following parts:"
      ]
    },
    {
      "cell_type": "code",
      "source": [
        "from google.colab import drive\n",
        "drive.mount('/content/drive')"
      ],
      "metadata": {
        "colab": {
          "base_uri": "https://localhost:8080/"
        },
        "id": "NM6rsaaZQGAD",
        "outputId": "21a652d5-781c-4edd-fa82-2e18842f2190"
      },
      "execution_count": null,
      "outputs": [
        {
          "output_type": "stream",
          "name": "stdout",
          "text": [
            "Drive already mounted at /content/drive; to attempt to forcibly remount, call drive.mount(\"/content/drive\", force_remount=True).\n"
          ]
        }
      ]
    },
    {
      "cell_type": "markdown",
      "metadata": {
        "id": "jCnLoeGrHXsp"
      },
      "source": [
        "## Python module imports\n",
        "Import all Python modules that you would need during the Assignment."
      ]
    },
    {
      "cell_type": "code",
      "metadata": {
        "id": "7itbFGt3HXVT"
      },
      "source": [
        "import numpy as np\n",
        "import pandas as pd\n",
        "from sklearn.model_selection import train_test_split\n",
        "from keras.preprocessing.text import Tokenizer\n",
        "from keras.models import Sequential\n",
        "from keras.layers import Embedding, LSTM, Dense"
      ],
      "execution_count": null,
      "outputs": []
    },
    {
      "cell_type": "markdown",
      "metadata": {
        "id": "Hr617tEpHd8R"
      },
      "source": [
        "## Data acquisition\n",
        "Seek a possible dataset, you can use any source, e.g.\n",
        "* http://www.gutenberg.org/\n",
        "* https://www.kaggle.com/datasets\n",
        "* https://paperswithcode.com/datasets\n",
        "* if you would like to learn Hungarian, than e.g. https://mek.oszk.hu/\n",
        "\n",
        "You can download the text by hand (e.g. by copy-pasting some parts into txt files) or with Python. "
      ]
    },
    {
      "cell_type": "code",
      "metadata": {
        "id": "NgkdQxHqHdZB"
      },
      "source": [
        "with open(\"/content/drive/MyDrive/09ait/bge_nietzsche.txt\", \"r\") as f:\n",
        "    author1_text = f.read()\n",
        "    \n",
        "with open(\"/content/drive/MyDrive/09ait/republic.txt\", \"r\") as f:\n",
        "    author2_text = f.read()\n"
      ],
      "execution_count": null,
      "outputs": []
    },
    {
      "cell_type": "markdown",
      "source": [
        "## Data analysis\n",
        "Count the number of characters from both authors and display them on a plot (e.g. Seaborn's countplot)."
      ],
      "metadata": {
        "id": "U9Pmq91t3SRD"
      }
    },
    {
      "cell_type": "code",
      "source": [
        "author1_text = author1_text[0:15000]\n",
        "author2_text = author2_text[0:15000]"
      ],
      "metadata": {
        "id": "uRqGdn4F3Spk"
      },
      "execution_count": null,
      "outputs": []
    },
    {
      "cell_type": "code",
      "source": [
        "author2_text[1000:1200]"
      ],
      "metadata": {
        "colab": {
          "base_uri": "https://localhost:8080/",
          "height": 73
        },
        "id": "M4IX1TZ6UzU2",
        "outputId": "ced700ac-b580-4680-bbee-681363d8645f"
      },
      "execution_count": null,
      "outputs": [
        {
          "output_type": "execute_result",
          "data": {
            "text/plain": [
              "'brother, Niceratus the son\\nof Nicias, and several others who had been at the procession.\\n\\nPolemarchus said to me: I perceive, Socrates, that you and your\\ncompanion are already on your way to the city.'"
            ],
            "application/vnd.google.colaboratory.intrinsic+json": {
              "type": "string"
            }
          },
          "metadata": {},
          "execution_count": 12
        }
      ]
    },
    {
      "cell_type": "markdown",
      "metadata": {
        "id": "cHyE_ndGIblJ"
      },
      "source": [
        "## Data loading, labeling and preprocessing\n",
        "Load the data and convert the characters into one-hot encodings. Then load the data into a 3D NumPy array, with a shape of\n",
        "\n",
        "* (batch, sequence_length, alphabet_length)\n",
        "\n",
        "where sequence_length=60, and alphabet_length equals to the number of unique characters in both datasets. The sequences should be cut out from the complete dataset by sliding window. You should add 0 and 1 labels to the sequences, according to the author. \n",
        "\n",
        "Later you may change sequence_length to achieve better results!"
      ]
    },
    {
      "cell_type": "code",
      "metadata": {
        "id": "arooXt0WIb6x"
      },
      "source": [
        "# Create a character set with unique characters from both datasets\n",
        "alphabet = sorted(set(author1_text + author2_text))\n",
        "alphabet_length = len(alphabet)"
      ],
      "execution_count": null,
      "outputs": []
    },
    {
      "cell_type": "code",
      "source": [
        "def sliding_window(text, window_size, step_size=1):\n",
        "    return [text[i:i + window_size] for i in range(0, len(text) - window_size, step_size)]\n",
        "# Create a dictionary to map characters to indices\n",
        "char_to_index = {c: i for i, c in enumerate(alphabet)}\n",
        "\n",
        "# Convert the characters into one-hot encodings\n",
        "sequence_length = 60\n",
        "\n",
        "author1_sequences = sliding_window(author1_text, sequence_length)\n",
        "author2_sequences = sliding_window(author2_text, sequence_length)\n",
        "\n",
        "one_hot_encoded_sequences = []\n",
        "for seq in author1_sequences + author2_sequences:\n",
        "    one_hot_encoded_seq = np.zeros((sequence_length, alphabet_length))\n",
        "    for i, char in enumerate(seq):\n",
        "        one_hot_encoded_seq[i, char_to_index[char]] = 1\n",
        "    one_hot_encoded_sequences.append(one_hot_encoded_seq)\n",
        "\n",
        "# Create a 3D NumPy array with the specified shape\n",
        "X = np.stack(one_hot_encoded_sequences)\n",
        "\n",
        "# Assign labels to the sequences according to the author\n",
        "y = np.array([0] * len(author1_sequences) + [1] * len(author2_sequences))\n",
        "\n"
      ],
      "metadata": {
        "id": "jriT9iB1R-Su"
      },
      "execution_count": null,
      "outputs": []
    },
    {
      "cell_type": "markdown",
      "metadata": {
        "id": "lL1Mc8ibHnep"
      },
      "source": [
        "## Data splitting\n",
        "Split the data into train, validate and test sets. Make "
      ]
    },
    {
      "cell_type": "code",
      "metadata": {
        "id": "ELyG9XFUHrkB"
      },
      "source": [
        "# Split the data into training and testing sets\n",
        "X_train, X_test, y_train, y_test = train_test_split(X, y, test_size=0.2, random_state=42)\n"
      ],
      "execution_count": null,
      "outputs": []
    },
    {
      "cell_type": "markdown",
      "metadata": {
        "id": "hA8U9tr7HrNQ"
      },
      "source": [
        "## Model definition\n",
        "Define a 1D CNN or an LSTM for the task. Compile the model with the correct loss function."
      ]
    },
    {
      "cell_type": "code",
      "metadata": {
        "id": "BT1V1s4kHuUe"
      },
      "source": [
        "# Create a simple LSTM model in Keras\n",
        "model = Sequential()\n",
        "model.add(LSTM(64, input_shape=(sequence_length, alphabet_length), dropout=0.2, recurrent_dropout=0.2))\n",
        "model.add(Dense(1, activation='sigmoid'))\n",
        "\n",
        "model.compile(loss='binary_crossentropy', optimizer='adam', metrics=['accuracy'])"
      ],
      "execution_count": null,
      "outputs": []
    },
    {
      "cell_type": "markdown",
      "metadata": {
        "id": "hWFb-nAMHuAI"
      },
      "source": [
        "## Model training\n",
        "Train the model and apply early stopping."
      ]
    },
    {
      "cell_type": "code",
      "metadata": {
        "id": "dvgKjqp3Hwkp",
        "colab": {
          "base_uri": "https://localhost:8080/"
        },
        "outputId": "4a298621-5fcf-462e-df7d-4f1fa2daa7a2"
      },
      "source": [
        "model \n",
        "# Train and evaluate the model\n",
        "epochs = 10\n",
        "batch_size = 32\n",
        "\n",
        "model.fit(X_train, y_train, batch_size=batch_size, epochs=epochs, validation_split=0.1)\n",
        "loss, accuracy = model.evaluate(X_test, y_test)"
      ],
      "execution_count": null,
      "outputs": [
        {
          "output_type": "stream",
          "name": "stdout",
          "text": [
            "Epoch 1/10\n",
            "673/673 [==============================] - 82s 109ms/step - loss: 0.4591 - accuracy: 0.7717 - val_loss: 0.3093 - val_accuracy: 0.8586\n",
            "Epoch 2/10\n",
            "673/673 [==============================] - 71s 105ms/step - loss: 0.3669 - accuracy: 0.8259 - val_loss: 0.2933 - val_accuracy: 0.8666\n",
            "Epoch 3/10\n",
            "673/673 [==============================] - 69s 102ms/step - loss: 0.3103 - accuracy: 0.8579 - val_loss: 0.2114 - val_accuracy: 0.9076\n",
            "Epoch 4/10\n",
            "673/673 [==============================] - 70s 105ms/step - loss: 0.2638 - accuracy: 0.8840 - val_loss: 0.1806 - val_accuracy: 0.9444\n",
            "Epoch 5/10\n",
            "673/673 [==============================] - 71s 105ms/step - loss: 0.2034 - accuracy: 0.9147 - val_loss: 0.1492 - val_accuracy: 0.9381\n",
            "Epoch 6/10\n",
            "673/673 [==============================] - 67s 100ms/step - loss: 0.1670 - accuracy: 0.9326 - val_loss: 0.1136 - val_accuracy: 0.9611\n",
            "Epoch 7/10\n",
            "673/673 [==============================] - 70s 103ms/step - loss: 0.1364 - accuracy: 0.9471 - val_loss: 0.0967 - val_accuracy: 0.9665\n",
            "Epoch 8/10\n",
            "673/673 [==============================] - 75s 111ms/step - loss: 0.1162 - accuracy: 0.9540 - val_loss: 0.0393 - val_accuracy: 0.9895\n",
            "Epoch 9/10\n",
            "673/673 [==============================] - 67s 100ms/step - loss: 0.1047 - accuracy: 0.9605 - val_loss: 0.0260 - val_accuracy: 0.9925\n",
            "Epoch 10/10\n",
            "673/673 [==============================] - 69s 103ms/step - loss: 0.0864 - accuracy: 0.9677 - val_loss: 0.0201 - val_accuracy: 0.9929\n",
            "187/187 [==============================] - 4s 20ms/step - loss: 0.0160 - accuracy: 0.9955\n"
          ]
        }
      ]
    },
    {
      "cell_type": "markdown",
      "metadata": {
        "id": "0omw2XzSHwOo"
      },
      "source": [
        "## Evaluation on test data\n",
        "Evaluate the model on the test data in terms of loss and accuracy."
      ]
    },
    {
      "cell_type": "code",
      "metadata": {
        "id": "4bF3dQA1Hv_R",
        "colab": {
          "base_uri": "https://localhost:8080/"
        },
        "outputId": "067adaa1-27ed-440c-bd25-096132fd032f"
      },
      "source": [
        "# Evaluate the model on the test data\n",
        "loss, accuracy = model.evaluate(X_test, y_test)\n",
        "print(\"Test loss:\", loss)\n",
        "print(\"Test accuracy:\", accuracy)\n",
        "\n",
        "# Get the predicted labels for the test data\n",
        "y_pred = (model.predict(X_test) > 0.5).astype(\"int32\")"
      ],
      "execution_count": null,
      "outputs": [
        {
          "output_type": "stream",
          "name": "stdout",
          "text": [
            "187/187 [==============================] - 3s 15ms/step - loss: 0.0160 - accuracy: 0.9955\n",
            "Test loss: 0.016029149293899536\n",
            "Test accuracy: 0.9954819083213806\n",
            "187/187 [==============================] - 4s 24ms/step\n"
          ]
        }
      ]
    },
    {
      "cell_type": "markdown",
      "metadata": {
        "id": "4Y73Q-h5Hz1r"
      },
      "source": [
        "## Confusion matrix\n",
        "Calculate and display the confusion matrix."
      ]
    },
    {
      "cell_type": "code",
      "metadata": {
        "id": "cW8zZi1uJm2B",
        "colab": {
          "base_uri": "https://localhost:8080/",
          "height": 451
        },
        "outputId": "756a4f1b-bb97-4710-ab58-b0b212cace49"
      },
      "source": [
        "from sklearn.metrics import confusion_matrix\n",
        "import seaborn as sns\n",
        "import matplotlib.pyplot as plt\n",
        "\n",
        "\n",
        "# Calculate the confusion matrix\n",
        "cm = confusion_matrix(y_test, y_pred)\n",
        "\n",
        "# Display the confusion matrix\n",
        "sns.heatmap(cm, annot=True, fmt=\"d\", cmap=\"YlGnBu\", xticklabels=[\"Nietzsche\", \"Plato\"], yticklabels=[\"Nietzsche\", \"Plato\"])\n",
        "plt.xlabel(\"Predicted Label\")\n",
        "plt.ylabel(\"True Label\")\n",
        "plt.show()"
      ],
      "execution_count": null,
      "outputs": [
        {
          "output_type": "display_data",
          "data": {
            "text/plain": [
              "<Figure size 640x480 with 2 Axes>"
            ],
            "image/png": "[encoded data removed]"
          },
          "metadata": {}
        }
      ]
    },
    {
      "cell_type": "code",
      "source": [
        "def preprocess_input_text(text, sequence_length, char_to_index, alphabet_length):\n",
        "    sequences = sliding_window(text, sequence_length)\n",
        "    one_hot_encoded_sequences = []\n",
        "    for seq in sequences:\n",
        "        one_hot_encoded_seq = np.zeros((sequence_length, alphabet_length))\n",
        "        for i, char in enumerate(seq):\n",
        "            if char in char_to_index:\n",
        "                one_hot_encoded_seq[i, char_to_index[char]] = 1\n",
        "        one_hot_encoded_sequences.append(one_hot_encoded_seq)\n",
        "    return np.stack(one_hot_encoded_sequences)\n",
        "input_text = \"\"\"\n",
        "Be kind, for everyone you meet is fighting a harder battle. Be kind, for everyone you meet is fighting a harder battle.\"\"\"\n",
        "# Preprocess the input text\n",
        "X_input = preprocess_input_text(input_text, sequence_length, char_to_index, alphabet_length)\n",
        "\n",
        "# Get the predicted probabilities for the input text\n",
        "y_probs = model.predict(X_input)\n",
        "\n",
        "# Interpret the predicted probabilities to determine the author\n",
        "author_probs = np.mean(y_probs, axis=0)\n",
        "author = \"Nietzsche\" if author_probs < 0.5 else \"Plato\"\n",
        "probability = 1- author_probs if author_probs < 0.5 else author_probs\n",
        "print(f\"The given text is most likely written by {author}, with probability {probability}.\")\n"
      ],
      "metadata": {
        "colab": {
          "base_uri": "https://localhost:8080/"
        },
        "id": "NU1ylC-BVXfp",
        "outputId": "761ce1e6-a11a-4578-8eae-7d23bdf66003"
      },
      "execution_count": null,
      "outputs": [
        {
          "output_type": "stream",
          "name": "stdout",
          "text": [
            "2/2 [==============================] - 0s 30ms/step\n",
            "The given text is most likely written by Plato, with probability [0.99504256].\n"
          ]
        }
      ]
    },
    {
      "cell_type": "code",
      "source": [],
      "metadata": {
        "id": "rO3n0NJnWLi_"
      },
      "execution_count": null,
      "outputs": []
    }
  ]
}